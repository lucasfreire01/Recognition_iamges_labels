{
 "cells": [
  {
   "cell_type": "markdown",
   "metadata": {
    "colab_type": "text",
    "id": "view-in-github"
   },
   "source": [
    "<a href=\"https://colab.research.google.com/github/lucasfreire01/Recognition_iamges_labels/blob/main/Image_label.ipynb\" target=\"_parent\"><img src=\"https://colab.research.google.com/assets/colab-badge.svg\" alt=\"Open In Colab\"/></a>"
   ]
  },
  {
   "cell_type": "markdown",
   "metadata": {
    "id": "xM_1pdrkeUm1"
   },
   "source": [
    "# **EDA**"
   ]
  },
  {
   "cell_type": "code",
   "execution_count": 1,
   "metadata": {
    "id": "5Zp3HHpfJXr_"
   },
   "outputs": [
    {
     "name": "stdout",
     "output_type": "stream",
     "text": [
      "WARNING:tensorflow:From C:\\Users\\liams\\anaconda3\\Lib\\site-packages\\keras\\src\\losses.py:2976: The name tf.losses.sparse_softmax_cross_entropy is deprecated. Please use tf.compat.v1.losses.sparse_softmax_cross_entropy instead.\n",
      "\n"
     ]
    }
   ],
   "source": [
    "#load the libraries\n",
    "import tensorflow as tf\n",
    "import pandas as pd\n",
    "import numpy as np\n",
    "import matplotlib.pyplot as plt\n",
    "import pickle\n",
    "import seaborn as sns\n",
    "import zipfile"
   ]
  },
  {
   "cell_type": "code",
   "execution_count": 2,
   "metadata": {
    "colab": {
     "base_uri": "https://localhost:8080/"
    },
    "id": "X_q6n2x46zfd",
    "outputId": "c21e897a-c508-403c-c1c1-3e78c20b7602"
   },
   "outputs": [
    {
     "data": {
      "text/plain": [
       "[]"
      ]
     },
     "execution_count": 2,
     "metadata": {},
     "output_type": "execute_result"
    }
   ],
   "source": [
    "tf.config.list_physical_devices('GPU')"
   ]
  },
  {
   "cell_type": "code",
   "execution_count": 3,
   "metadata": {
    "id": "7Gi8SCygLOOl"
   },
   "outputs": [],
   "source": [
    "#load datasets\n",
    "(x_train, y_train), (x_test,y_test) = tf.keras.datasets.cifar10.load_data()"
   ]
  },
  {
   "cell_type": "code",
   "execution_count": 4,
   "metadata": {
    "id": "2II2Eg60RVzN"
   },
   "outputs": [],
   "source": [
    "#take the validation values in the normalize train datasets\n",
    "from sklearn.model_selection import train_test_split\n",
    "x_train, x_val, y_train, y_val = train_test_split(x_train, y_train, test_size=0.2, random_state=42)"
   ]
  },
  {
   "cell_type": "code",
   "execution_count": 5,
   "metadata": {
    "colab": {
     "base_uri": "https://localhost:8080/"
    },
    "id": "2qoDuaj1CD0x",
    "outputId": "29d22d12-0040-4048-efdb-90a80dff1008"
   },
   "outputs": [
    {
     "data": {
      "text/plain": [
       "array([[[[ 34,  36,  43],\n",
       "         [ 37,  37,  51],\n",
       "         [ 44,  44,  64],\n",
       "         ...,\n",
       "         [ 62,  73,  93],\n",
       "         [ 52,  63,  83],\n",
       "         [ 45,  57,  77]],\n",
       "\n",
       "        [[ 35,  35,  37],\n",
       "         [ 34,  34,  40],\n",
       "         [ 34,  33,  43],\n",
       "         ...,\n",
       "         [ 58,  69,  89],\n",
       "         [ 50,  60,  80],\n",
       "         [ 47,  58,  78]],\n",
       "\n",
       "        [[ 34,  33,  35],\n",
       "         [ 33,  32,  36],\n",
       "         [ 33,  32,  38],\n",
       "         ...,\n",
       "         [ 66,  77,  97],\n",
       "         [ 51,  62,  82],\n",
       "         [ 53,  64,  84]],\n",
       "\n",
       "        ...,\n",
       "\n",
       "        [[ 32,  32,  38],\n",
       "         [ 32,  31,  37],\n",
       "         [ 33,  33,  38],\n",
       "         ...,\n",
       "         [ 41,  38,  45],\n",
       "         [ 34,  31,  38],\n",
       "         [ 36,  32,  40]],\n",
       "\n",
       "        [[ 33,  31,  36],\n",
       "         [ 32,  30,  36],\n",
       "         [ 34,  32,  37],\n",
       "         ...,\n",
       "         [ 37,  35,  40],\n",
       "         [ 32,  29,  35],\n",
       "         [ 30,  28,  33]],\n",
       "\n",
       "        [[ 37,  32,  35],\n",
       "         [ 37,  32,  36],\n",
       "         [ 37,  33,  36],\n",
       "         ...,\n",
       "         [ 49,  47,  49],\n",
       "         [ 47,  45,  48],\n",
       "         [ 58,  56,  58]]],\n",
       "\n",
       "\n",
       "       [[[ 91,  94,  91],\n",
       "         [ 95, 113,  88],\n",
       "         [ 92, 121,  91],\n",
       "         ...,\n",
       "         [150, 153, 150],\n",
       "         [131, 145, 106],\n",
       "         [ 89, 118,  38]],\n",
       "\n",
       "        [[100, 136, 101],\n",
       "         [ 94, 128, 100],\n",
       "         [ 70, 103,  71],\n",
       "         ...,\n",
       "         [ 77,  79,  78],\n",
       "         [ 99, 114,  90],\n",
       "         [ 86, 110,  57]],\n",
       "\n",
       "        [[104, 144,  99],\n",
       "         [ 85, 122,  85],\n",
       "         [ 58,  84,  51],\n",
       "         ...,\n",
       "         [ 62,  74,  69],\n",
       "         [ 56,  70,  56],\n",
       "         [ 67,  85,  57]],\n",
       "\n",
       "        ...,\n",
       "\n",
       "        [[118, 107, 103],\n",
       "         [148, 139, 142],\n",
       "         [133, 120, 117],\n",
       "         ...,\n",
       "         [ 82,  74,  91],\n",
       "         [124, 109, 119],\n",
       "         [107,  90,  94]],\n",
       "\n",
       "        [[143, 122, 125],\n",
       "         [150, 134, 140],\n",
       "         [181, 158, 152],\n",
       "         ...,\n",
       "         [ 74,  70,  86],\n",
       "         [110, 102, 106],\n",
       "         [ 97,  90,  88]],\n",
       "\n",
       "        [[121, 111, 109],\n",
       "         [135, 126, 127],\n",
       "         [155, 138, 136],\n",
       "         ...,\n",
       "         [ 65,  57,  74],\n",
       "         [130, 118, 121],\n",
       "         [147, 136, 134]]],\n",
       "\n",
       "\n",
       "       [[[208, 196, 158],\n",
       "         [198, 179, 151],\n",
       "         [164, 155, 130],\n",
       "         ...,\n",
       "         [174, 159, 134],\n",
       "         [186, 172, 135],\n",
       "         [192, 187, 147]],\n",
       "\n",
       "        [[204, 195, 158],\n",
       "         [179, 165, 141],\n",
       "         [153, 143, 129],\n",
       "         ...,\n",
       "         [174, 158, 137],\n",
       "         [190, 174, 143],\n",
       "         [190, 181, 143]],\n",
       "\n",
       "        [[185, 180, 148],\n",
       "         [135, 126, 112],\n",
       "         [100,  89,  92],\n",
       "         ...,\n",
       "         [191, 176, 150],\n",
       "         [180, 163, 135],\n",
       "         [201, 188, 156]],\n",
       "\n",
       "        ...,\n",
       "\n",
       "        [[217, 211, 209],\n",
       "         [187, 176, 188],\n",
       "         [177, 164, 170],\n",
       "         ...,\n",
       "         [139, 110, 118],\n",
       "         [150, 112, 121],\n",
       "         [216, 198, 197]],\n",
       "\n",
       "        [[238, 228, 226],\n",
       "         [226, 214, 217],\n",
       "         [234, 223, 221],\n",
       "         ...,\n",
       "         [151, 114, 122],\n",
       "         [183, 149, 155],\n",
       "         [218, 198, 199]],\n",
       "\n",
       "        [[236, 224, 222],\n",
       "         [216, 204, 204],\n",
       "         [225, 214, 209],\n",
       "         ...,\n",
       "         [187, 161, 163],\n",
       "         [188, 165, 165],\n",
       "         [177, 158, 157]]],\n",
       "\n",
       "\n",
       "       ...,\n",
       "\n",
       "\n",
       "       [[[107, 147, 194],\n",
       "         [127, 156, 195],\n",
       "         [117, 152, 195],\n",
       "         ...,\n",
       "         [132, 180, 225],\n",
       "         [128, 178, 222],\n",
       "         [123, 176, 219]],\n",
       "\n",
       "        [[118, 156, 200],\n",
       "         [133, 160, 196],\n",
       "         [124, 156, 196],\n",
       "         ...,\n",
       "         [142, 185, 226],\n",
       "         [136, 181, 222],\n",
       "         [131, 180, 219]],\n",
       "\n",
       "        [[127, 161, 201],\n",
       "         [137, 162, 193],\n",
       "         [132, 161, 196],\n",
       "         ...,\n",
       "         [151, 188, 224],\n",
       "         [143, 182, 218],\n",
       "         [139, 181, 215]],\n",
       "\n",
       "        ...,\n",
       "\n",
       "        [[ 31,  31,  31],\n",
       "         [ 31,  31,  31],\n",
       "         [ 31,  31,  31],\n",
       "         ...,\n",
       "         [ 32,  30,  40],\n",
       "         [ 29,  32,  42],\n",
       "         [ 28,  33,  41]],\n",
       "\n",
       "        [[ 31,  31,  31],\n",
       "         [ 31,  31,  31],\n",
       "         [ 31,  31,  31],\n",
       "         ...,\n",
       "         [ 31,  30,  36],\n",
       "         [ 30,  31,  37],\n",
       "         [ 30,  31,  36]],\n",
       "\n",
       "        [[ 31,  31,  31],\n",
       "         [ 31,  31,  31],\n",
       "         [ 31,  31,  31],\n",
       "         ...,\n",
       "         [ 31,  30,  34],\n",
       "         [ 31,  30,  34],\n",
       "         [ 31,  30,  34]]],\n",
       "\n",
       "\n",
       "       [[[255, 255, 255],\n",
       "         [255, 255, 255],\n",
       "         [255, 255, 255],\n",
       "         ...,\n",
       "         [255, 255, 255],\n",
       "         [255, 255, 255],\n",
       "         [255, 255, 255]],\n",
       "\n",
       "        [[255, 255, 255],\n",
       "         [253, 253, 253],\n",
       "         [254, 254, 254],\n",
       "         ...,\n",
       "         [254, 254, 254],\n",
       "         [252, 254, 253],\n",
       "         [254, 255, 255]],\n",
       "\n",
       "        [[255, 255, 255],\n",
       "         [254, 254, 254],\n",
       "         [255, 255, 255],\n",
       "         ...,\n",
       "         [254, 255, 255],\n",
       "         [253, 254, 254],\n",
       "         [254, 255, 255]],\n",
       "\n",
       "        ...,\n",
       "\n",
       "        [[ 77,  73,  68],\n",
       "         [ 81,  77,  70],\n",
       "         [ 79,  76,  67],\n",
       "         ...,\n",
       "         [ 78,  80,  73],\n",
       "         [ 76,  75,  69],\n",
       "         [ 78,  73,  66]],\n",
       "\n",
       "        [[ 64,  60,  54],\n",
       "         [ 63,  60,  52],\n",
       "         [ 72,  70,  60],\n",
       "         ...,\n",
       "         [ 68,  71,  64],\n",
       "         [ 74,  73,  69],\n",
       "         [ 78,  69,  67]],\n",
       "\n",
       "        [[ 59,  56,  50],\n",
       "         [ 66,  63,  54],\n",
       "         [ 75,  72,  62],\n",
       "         ...,\n",
       "         [ 62,  64,  56],\n",
       "         [ 66,  64,  59],\n",
       "         [ 71,  64,  61]]],\n",
       "\n",
       "\n",
       "       [[[187, 205, 240],\n",
       "         [197, 209, 240],\n",
       "         [200, 209, 236],\n",
       "         ...,\n",
       "         [244, 245, 249],\n",
       "         [242, 243, 248],\n",
       "         [243, 243, 249]],\n",
       "\n",
       "        [[148, 174, 219],\n",
       "         [169, 187, 227],\n",
       "         [184, 196, 231],\n",
       "         ...,\n",
       "         [239, 239, 244],\n",
       "         [245, 246, 251],\n",
       "         [248, 248, 253]],\n",
       "\n",
       "        [[155, 182, 229],\n",
       "         [162, 185, 228],\n",
       "         [177, 196, 235],\n",
       "         ...,\n",
       "         [239, 239, 248],\n",
       "         [241, 241, 249],\n",
       "         [240, 241, 247]],\n",
       "\n",
       "        ...,\n",
       "\n",
       "        [[ 54,  67,  77],\n",
       "         [ 57,  70,  79],\n",
       "         [ 56,  69,  78],\n",
       "         ...,\n",
       "         [ 92, 113, 116],\n",
       "         [ 98, 119, 125],\n",
       "         [ 96, 116, 124]],\n",
       "\n",
       "        [[ 42,  55,  63],\n",
       "         [ 41,  54,  62],\n",
       "         [ 40,  53,  61],\n",
       "         ...,\n",
       "         [ 77,  98, 100],\n",
       "         [ 94, 115, 119],\n",
       "         [ 90, 111, 117]],\n",
       "\n",
       "        [[ 32,  46,  52],\n",
       "         [ 32,  45,  51],\n",
       "         [ 35,  48,  54],\n",
       "         ...,\n",
       "         [ 74,  95,  95],\n",
       "         [ 80, 101, 103],\n",
       "         [ 80, 101, 106]]]], dtype=uint8)"
      ]
     },
     "execution_count": 5,
     "metadata": {},
     "output_type": "execute_result"
    }
   ],
   "source": [
    "x_train"
   ]
  },
  {
   "cell_type": "code",
   "execution_count": 6,
   "metadata": {
    "colab": {
     "base_uri": "https://localhost:8080/"
    },
    "id": "0zM6N4JYP1JE",
    "outputId": "159c39b4-69ca-455c-b850-6ae4b6674c25"
   },
   "outputs": [
    {
     "data": {
      "text/plain": [
       "(40000, 32, 32, 3)"
      ]
     },
     "execution_count": 6,
     "metadata": {},
     "output_type": "execute_result"
    }
   ],
   "source": [
    "x_train.shape"
   ]
  },
  {
   "cell_type": "code",
   "execution_count": 7,
   "metadata": {
    "colab": {
     "base_uri": "https://localhost:8080/"
    },
    "id": "_Vl1rhLJP8OL",
    "outputId": "59a1fb00-d8da-4bcc-a252-0ba168be07b0"
   },
   "outputs": [
    {
     "data": {
      "text/plain": [
       "(10000, 32, 32, 3)"
      ]
     },
     "execution_count": 7,
     "metadata": {},
     "output_type": "execute_result"
    }
   ],
   "source": [
    "x_test.shape"
   ]
  },
  {
   "cell_type": "code",
   "execution_count": 8,
   "metadata": {
    "colab": {
     "base_uri": "https://localhost:8080/"
    },
    "id": "tUMZng7c9UQi",
    "outputId": "e9080fea-2de0-47ba-f2fc-11b6f301b712"
   },
   "outputs": [
    {
     "data": {
      "text/plain": [
       "(40000, 1)"
      ]
     },
     "execution_count": 8,
     "metadata": {},
     "output_type": "execute_result"
    }
   ],
   "source": [
    "y_train.shape"
   ]
  },
  {
   "cell_type": "code",
   "execution_count": 9,
   "metadata": {
    "colab": {
     "base_uri": "https://localhost:8080/"
    },
    "id": "0xrgx3or9X9H",
    "outputId": "9d3bb71b-52b2-4b32-915a-ce933aa58820"
   },
   "outputs": [
    {
     "data": {
      "text/plain": [
       "(10000, 32, 32, 3)"
      ]
     },
     "execution_count": 9,
     "metadata": {},
     "output_type": "execute_result"
    }
   ],
   "source": [
    "x_test.shape"
   ]
  },
  {
   "cell_type": "code",
   "execution_count": 10,
   "metadata": {
    "colab": {
     "base_uri": "https://localhost:8080/",
     "height": 447
    },
    "id": "Jr-AeFg0bXJv",
    "outputId": "486154bb-b9ac-4155-a735-1406d4a15f31"
   },
   "outputs": [
    {
     "data": {
      "text/plain": [
       "<matplotlib.image.AxesImage at 0x1f936d8da90>"
      ]
     },
     "execution_count": 10,
     "metadata": {},
     "output_type": "execute_result"
    },
    {
     "data": {
      "image/png": "[encoded data removed]",
      "text/plain": [
       "<Figure size 640x480 with 1 Axes>"
      ]
     },
     "metadata": {},
     "output_type": "display_data"
    }
   ],
   "source": [
    "#plot a random image\n",
    "i = np.random.randint(0, 1000)\n",
    "plt.figure()\n",
    "plt.imshow(x_train[i])"
   ]
  },
  {
   "cell_type": "code",
   "execution_count": 11,
   "metadata": {
    "colab": {
     "base_uri": "https://localhost:8080/",
     "height": 1000
    },
    "id": "nwvPyRoHb4NK",
    "outputId": "c29aa658-fff1-4f98-f3be-aa8627435a76"
   },
   "outputs": [
    {
     "name": "stderr",
     "output_type": "stream",
     "text": [
      "C:\\Users\\liams\\anaconda3\\Lib\\site-packages\\matplotlib\\text.py:1279: FutureWarning: elementwise comparison failed; returning scalar instead, but in the future will perform elementwise comparison\n",
      "  if s != self._text:\n"
     ]
    },
    {
     "data": {
      "image/png": "[encoded data removed]",
      "text/plain": [
       "<Figure size 1500x1500 with 16 Axes>"
      ]
     },
     "metadata": {},
     "output_type": "display_data"
    }
   ],
   "source": [
    "#See the picture and yours lables\n",
    "w = 4\n",
    "l = 4\n",
    "fig, axes = plt.subplots(l,w, figsize=(15,15))\n",
    "axes = axes.ravel()\n",
    "\n",
    "n_train = len(x_train)\n",
    "for i in np.arange(0, l* w):\n",
    "    index = np.random.randint(0, n_train)\n",
    "    axes[i].imshow(x_train[index])\n",
    "    axes[i].set_title(y_train[index])\n",
    "    axes[i].axis('off')\n"
   ]
  },
  {
   "cell_type": "markdown",
   "metadata": {
    "id": "ERAdt3bVd6Ay"
   },
   "source": [
    "# **Pre_Pocessing**"
   ]
  },
  {
   "cell_type": "code",
   "execution_count": null,
   "metadata": {
    "id": "vpAFnSWkeCGE"
   },
   "outputs": [],
   "source": [
    "#Transform in float32 to become these datas more computationally cheap\n",
    "x_train = x_train.astype('float32')\n",
    "x_test = x_test.astype('float32')\n",
    "x_val = x_val.astype('float32')"
   ]
  },
  {
   "cell_type": "code",
   "execution_count": null,
   "metadata": {
    "colab": {
     "base_uri": "https://localhost:8080/"
    },
    "id": "CZrkhqZmeaTI",
    "outputId": "9ca0b560-9da2-4a02-d1b0-08479ee577a4"
   },
   "outputs": [],
   "source": [
    "#See the label values\n",
    "unique_values, counts = np.unique(y_train, return_counts=True)\n",
    "for value, count in zip(unique_values, counts):\n",
    "    print(f\"y_train label {value}: have {count} times\")"
   ]
  },
  {
   "cell_type": "code",
   "execution_count": null,
   "metadata": {
    "id": "x4TEJ6yugi75"
   },
   "outputs": [],
   "source": [
    "#Create a def to encoding the y datasets\n",
    "def encoding(x, cat):\n",
    "  x = tf.keras.utils.to_categorical(x, cat)\n",
    "  return x\n",
    "\n",
    "y_train = encoding(y_train, 10)\n",
    "y_test = encoding(y_test, 10)\n",
    "y_val = encoding(y_val, 10)"
   ]
  },
  {
   "cell_type": "code",
   "execution_count": null,
   "metadata": {
    "id": "7kWld6fp9cpg"
   },
   "outputs": [],
   "source": [
    "#Normalizate the train database\n",
    "def normalization(var):\n",
    "  var_norm = var / 255.0\n",
    "  return var_norm"
   ]
  },
  {
   "cell_type": "code",
   "execution_count": null,
   "metadata": {
    "id": "vn5ecvWi9-na"
   },
   "outputs": [],
   "source": [
    "x_train_norm = normalization(x_train)\n",
    "x_test_norm = normalization(x_test)\n",
    "x_val_norm = normalization(x_val)"
   ]
  },
  {
   "cell_type": "code",
   "execution_count": null,
   "metadata": {
    "id": "RopLdqR7HQmI"
   },
   "outputs": [],
   "source": [
    "#Transform in grayscale\n",
    "def grayscale(x):\n",
    "  x= np.sum(x / 3, axis=3, keepdims=True)\n",
    "  return x\n",
    "\n",
    "x_train_norm_gray = grayscale(x_train_norm)\n",
    "x_test_norm_gray = grayscale(x_test_norm)\n",
    "x_val_norm_gray = grayscale(x_val_norm)"
   ]
  },
  {
   "cell_type": "code",
   "execution_count": null,
   "metadata": {
    "colab": {
     "base_uri": "https://localhost:8080/"
    },
    "id": "bGQZfoNXORVT",
    "outputId": "0c2e8a85-f341-4342-f2aa-8f9e00db9391"
   },
   "outputs": [],
   "source": [
    "y_train.shape"
   ]
  },
  {
   "cell_type": "code",
   "execution_count": null,
   "metadata": {
    "colab": {
     "base_uri": "https://localhost:8080/"
    },
    "id": "cfr28wPXOVof",
    "outputId": "9ab4e428-4cd9-4035-eaf0-ee30562e3fcd"
   },
   "outputs": [],
   "source": [
    "x_train_norm_gray.shape"
   ]
  },
  {
   "cell_type": "code",
   "execution_count": null,
   "metadata": {
    "colab": {
     "base_uri": "https://localhost:8080/"
    },
    "id": "cBkWG38BTQoY",
    "outputId": "c8adb700-50b8-4fe1-b08a-4675852f6aa3"
   },
   "outputs": [],
   "source": [
    "x_train_norm.shape"
   ]
  },
  {
   "cell_type": "code",
   "execution_count": null,
   "metadata": {
    "colab": {
     "base_uri": "https://localhost:8080/",
     "height": 904
    },
    "id": "L7_UnozRFtvo",
    "outputId": "6ca00c2e-7739-4164-8bf4-db67d5cab8cf"
   },
   "outputs": [],
   "source": [
    "i = np.random.randint(0, 40000)\n",
    "\n",
    "# Visualize the original image\n",
    "plt.figure()\n",
    "plt.title(\"Original train image\")\n",
    "plt.imshow((x_train[i] * 255).astype(np.uint8))\n",
    "# Visualize the normalized grayscale version\n",
    "plt.figure()\n",
    "plt.title(\"Image train gray base norm\")\n",
    "plt.imshow(x_train_norm_gray[i].squeeze(), cmap='gray', vmin=0, vmax=1)\n",
    "\n"
   ]
  },
  {
   "cell_type": "code",
   "execution_count": null,
   "metadata": {
    "colab": {
     "base_uri": "https://localhost:8080/"
    },
    "id": "sQ4W91F1XSFm",
    "outputId": "d9ca3faa-29aa-46c0-efe5-4ce57791c1da"
   },
   "outputs": [],
   "source": [
    "x_train_norm.shape"
   ]
  },
  {
   "cell_type": "code",
   "execution_count": null,
   "metadata": {
    "colab": {
     "base_uri": "https://localhost:8080/",
     "height": 1000
    },
    "id": "no8BISvzSQ13",
    "outputId": "a8df6165-b988-4f38-c408-6b3cf33a1719"
   },
   "outputs": [],
   "source": [
    "#Noise random\n",
    "from scipy.ndimage import gaussian_filter\n",
    "\n",
    "#Create a def to noise random\n",
    "def random_noise(x):\n",
    "  return x + 0.1 * np.random.normal(size=x.shape)\n",
    "\n",
    "x_train_norm_gray_noise = random_noise(x_train_norm_gray)\n",
    "x_val_norm_gray_noise = random_noise(x_val_norm_gray)\n",
    "\n",
    "\n",
    "#Create a def to gaussian_filter\n",
    "def gaussian_filter_smoothad(x, simga):\n",
    "  x = gaussian_filter(x, sigma=sigma)\n",
    "  return x\n",
    "\n",
    "x_train_norm_gray_noise_smoothed = gaussian_filter_smoothad(x_train_norm_gray_noise, 1)\n",
    "x_val_norm_gray_noise_smoothed = gaussian_filter_smoothad(x_val_norm_gray_noise, 1)\n",
    "\n",
    "# Plot the original, norm, smoothed and noise images for comparison\n",
    "plt.figure()\n",
    "plt.imshow((x_train[0] * 255).astype(np.uint8))\n",
    "plt.title('Original Norm Image')\n",
    "\n",
    "plt.figure()\n",
    "plt.imshow(x_train_norm_gray[0], cmap='gray')\n",
    "plt.title('Norm Image')\n",
    "\n",
    "plt.figure()\n",
    "plt.imshow(x_train_norm_gray_noise_smoothed[0], cmap='gray')\n",
    "plt.title('Smoothed Norm Image')\n",
    "\n",
    "plt.figure()\n",
    "plt.imshow(x_train_norm_gray_noise[0], cmap='gray')\n",
    "plt.title('Norm Norse Image')"
   ]
  },
  {
   "cell_type": "code",
   "execution_count": null,
   "metadata": {
    "colab": {
     "base_uri": "https://localhost:8080/",
     "height": 1000
    },
    "id": "Ch3gSC7BZe8Z",
    "outputId": "0eb1bbce-fd69-4aec-98ba-f27a9ec743c8"
   },
   "outputs": [],
   "source": [
    "#See these images in the x_test varaible\n",
    "from scipy.ndimage import gaussian_filter\n",
    "x_test_norm_gray_noise = x_test_norm_gray + 0.1 * np.random.normal(size=x_test_norm_gray.shape)\n",
    "\n",
    "sigma = 1\n",
    "x_test_norm_gray_noise_smoothed = gaussian_filter(x_test_norm_gray_noise, sigma=sigma)\n",
    "\n",
    "# Plot the original, norm, smoothed and noise images for comparison\n",
    "plt.figure()\n",
    "plt.imshow((x_test[0] * 255).astype(np.uint8))\n",
    "plt.title('Original Image')\n",
    "\n",
    "plt.figure()\n",
    "plt.imshow(x_test_norm_gray[0], cmap='gray')\n",
    "plt.title('Norm Image')\n",
    "\n",
    "plt.figure()\n",
    "plt.imshow(x_test_norm_gray_noise_smoothed[0], cmap='gray')\n",
    "plt.title('Smoothed Norm Image')\n",
    "\n",
    "plt.figure()\n",
    "plt.imshow(x_test_norm_gray_noise[0], cmap='gray')\n",
    "plt.title('Norm Norse Image')"
   ]
  },
  {
   "cell_type": "code",
   "execution_count": null,
   "metadata": {
    "colab": {
     "base_uri": "https://localhost:8080/"
    },
    "id": "nzCtkWOWa1kn",
    "outputId": "69ba457e-7b5e-45c3-b99a-815747ba93c1"
   },
   "outputs": [],
   "source": [
    "x_test_norm_gray.shape"
   ]
  },
  {
   "cell_type": "markdown",
   "metadata": {
    "id": "0CKsfvmjzkXD"
   },
   "source": [
    "# **Model**"
   ]
  },
  {
   "cell_type": "code",
   "execution_count": null,
   "metadata": {
    "id": "5e_SN_lKn-ya"
   },
   "outputs": [],
   "source": [
    "from tensorflow.keras import layers, models\n",
    "\n",
    "from tensorflow.keras.callbacks import EarlyStopping\n",
    "\n",
    "def inception_block(x, filters):\n",
    "    # Convolution 1x1\n",
    "    conv1x1 = layers.Conv2D(filters[0], (1, 1), padding='same', activation='relu')(x)\n",
    "    # Convolution 3x3\n",
    "    conv3x3 = layers.Conv2D(filters[1], (3, 3), padding='same', activation='relu')(x)\n",
    "    # Convolution 5x5\n",
    "    conv5x5 = layers.Conv2D(filters[2], (5, 5), padding='same', activation='relu')(x)\n",
    "    # Add maxpooling\n",
    "    maxpool = layers.MaxPooling2D((3, 3), strides=(1, 1), padding='same')(x)\n",
    "    maxpool_conv1x1 = layers.Conv2D(filters[3], (1, 1), padding='same', activation='relu')(maxpool)\n",
    "    # Concatenate the convolution\n",
    "    inception_block = layers.concatenate([conv1x1, conv3x3, conv5x5, maxpool_conv1x1], axis=-1)\n",
    "    return inception_block\n",
    "\n",
    "def GoogleNet(input_shape=(32, 32, 1), num_classes=10):\n",
    "    input_layer = layers.Input(shape=input_shape)\n",
    "\n",
    "    x = layers.Conv2D(64, (7, 7), strides=(2, 2), padding='same', activation='relu')(input_layer)\n",
    "    x = layers.MaxPooling2D((3, 3), strides=(2, 2), padding='same')(x)\n",
    "\n",
    "    x = inception_block(x, [64, 128, 32, 32])\n",
    "    x = inception_block(x, [128, 192, 96, 64])\n",
    "    x = layers.MaxPooling2D((3, 3), strides=(2, 2), padding='same')(x)\n",
    "\n",
    "    # Apply Dropout as a layer\n",
    "    x = layers.Dropout(0.5)(x)\n",
    "\n",
    "    x = layers.GlobalAveragePooling2D()(x)\n",
    "\n",
    "    # Apply Dropout as a layer\n",
    "    x = layers.Dropout(0.5)(x)\n",
    "\n",
    "    x = layers.Flatten()(x)\n",
    "\n",
    "    # Fully Connected Layer\n",
    "    x = layers.Dense(num_classes, activation='softmax')(x)\n",
    "\n",
    "    model = models.Model(inputs=input_layer, outputs=x)\n",
    "\n",
    "    # Define EarlyStopping callback\n",
    "    early_stopping = EarlyStopping(monitor='val_loss', patience=3, restore_best_weights=True)\n",
    "\n",
    "    return model, early_stopping"
   ]
  },
  {
   "cell_type": "code",
   "execution_count": null,
   "metadata": {
    "colab": {
     "base_uri": "https://localhost:8080/"
    },
    "id": "x1fW0ovfO8RN",
    "outputId": "2774077f-4647-4975-b194-e59bb96cdf54"
   },
   "outputs": [],
   "source": [
    "model, early_stopping = GoogleNet()\n",
    "model.summary()"
   ]
  },
  {
   "cell_type": "code",
   "execution_count": null,
   "metadata": {
    "colab": {
     "base_uri": "https://localhost:8080/"
    },
    "id": "Hzep23UO_kfq",
    "outputId": "6ec3553f-6b51-41b6-9606-564276e14492"
   },
   "outputs": [],
   "source": [
    "# Example usage of inception_block to see the summary\n",
    "input_tensor = layers.Input(shape=(224, 224, 3))  # Adjust the input shape accordingly\n",
    "output_tensor = inception_block(input_tensor, filters=[64, 128, 32, 32])\n",
    "\n",
    "# Create a model using the functional API\n",
    "inception_model = models.Model(inputs=input_tensor, outputs=output_tensor)\n",
    "\n",
    "# Display the model summary\n",
    "inception_model.summary()"
   ]
  },
  {
   "cell_type": "code",
   "execution_count": null,
   "metadata": {
    "colab": {
     "base_uri": "https://localhost:8080/"
    },
    "id": "Pdp3lb8PPren",
    "outputId": "7d0f121d-e3fe-4eff-9c94-cbfe66e38d4f"
   },
   "outputs": [],
   "source": [
    "x_train_norm_gray.shape"
   ]
  },
  {
   "cell_type": "code",
   "execution_count": null,
   "metadata": {
    "colab": {
     "base_uri": "https://localhost:8080/"
    },
    "id": "oZnpdx21Pv0f",
    "outputId": "a35c897a-f2d6-407a-aa63-3d38c4e7cb00"
   },
   "outputs": [],
   "source": [
    "y_train.shape"
   ]
  },
  {
   "cell_type": "code",
   "execution_count": null,
   "metadata": {
    "colab": {
     "base_uri": "https://localhost:8080/"
    },
    "id": "y8yDGdEuTE2Q",
    "outputId": "3d34f3d1-e1c4-4a52-aa71-5381eb38a159"
   },
   "outputs": [],
   "source": [
    "# RMSprop optimizer\n",
    "optimizer = tf.keras.optimizers.RMSprop(learning_rate=0.0001)\n",
    "\n",
    "# Compile the model using the new optimizer\n",
    "model.compile(optimizer='adam', loss='categorical_crossentropy', metrics=['accuracy'])\n",
    "history = model.fit(x_train_norm_gray, y_train, epochs=100, batch_size=32, validation_data=(x_val_norm_gray, y_val),callbacks=[early_stopping])\n"
   ]
  },
  {
   "cell_type": "code",
   "execution_count": null,
   "metadata": {
    "colab": {
     "base_uri": "https://localhost:8080/"
    },
    "id": "0MtckEVjXtNN",
    "outputId": "34a6c4f7-a392-4549-d01f-eb1f4f20d035"
   },
   "outputs": [],
   "source": [
    "#See the score in the x_test_norm_gray that is just normalize and become in grayscale\n",
    "score = model.evaluate(x_test_norm_gray, y_test)\n",
    "print('Test Acurracy: {}'.format(score[1]))"
   ]
  },
  {
   "cell_type": "code",
   "execution_count": null,
   "metadata": {
    "colab": {
     "base_uri": "https://localhost:8080/"
    },
    "id": "hmElqeLEBZPy",
    "outputId": "7f135b2c-713a-4eeb-d6e8-759ca0e47781"
   },
   "outputs": [],
   "source": [
    "history.history.keys()"
   ]
  },
  {
   "cell_type": "code",
   "execution_count": null,
   "metadata": {
    "id": "_MAAJDEdBZqN"
   },
   "outputs": [],
   "source": [
    "accuracy_norm_gray = history.history['accuracy']\n",
    "loss_norm_gray = history.history['loss']"
   ]
  },
  {
   "cell_type": "code",
   "execution_count": null,
   "metadata": {
    "colab": {
     "base_uri": "https://localhost:8080/",
     "height": 936
    },
    "id": "TJGBUptYBbwD",
    "outputId": "4ef467d5-0ee6-4bcc-a569-51024e099553"
   },
   "outputs": [],
   "source": [
    "#See the model the score and accuracy in a graph\n",
    "epochs = range(len(accuracy_norm_gray))\n",
    "plt.figure()\n",
    "plt.plot(epochs, accuracy_norm_gray, 'bo', color = 'r', label='Training Acuracy')\n",
    "plt.xlabel('Epochs')\n",
    "plt.ylabel('accuracy')\n",
    "plt.legend();\n",
    "\n",
    "plt.figure()\n",
    "plt.plot(epochs, loss_norm_gray, 'b', label='Training Loos')\n",
    "plt.xlabel('Epochs')\n",
    "plt.ylabel('Loss')\n",
    "plt.legend();"
   ]
  },
  {
   "cell_type": "code",
   "execution_count": null,
   "metadata": {
    "colab": {
     "base_uri": "https://localhost:8080/"
    },
    "id": "jWDLPOEOB-_6",
    "outputId": "ff6683d0-4dd5-446b-d0a5-eeb18a459546"
   },
   "outputs": [],
   "source": [
    "# RMSprop optimizer\n",
    "optimizer = tf.keras.optimizers.RMSprop(learning_rate=0.0001)\n",
    "\n",
    "# Compile the model using the new optimizer\n",
    "model.compile(optimizer='adam', loss='categorical_crossentropy', metrics=['accuracy'])\n",
    "history = model.fit(x_train_norm_gray_noise, y_train, epochs=150, batch_size=50, validation_data=(x_val_norm_gray_noise, y_val),callbacks=[early_stopping])"
   ]
  },
  {
   "cell_type": "code",
   "execution_count": null,
   "metadata": {
    "colab": {
     "base_uri": "https://localhost:8080/"
    },
    "id": "-TMf1ffAFMb6",
    "outputId": "4844dfd6-3521-4fe8-f46f-d3c816ab522a"
   },
   "outputs": [],
   "source": [
    "#See the score in the x_test_norm_gray_noise that is just normalize, become in grayscale and reduce the noise with numpy\n",
    "score = model.evaluate(x_test_norm_gray_noise, y_test)\n",
    "print('Test Acurracy: {}'.format(score[1]))"
   ]
  },
  {
   "cell_type": "code",
   "execution_count": null,
   "metadata": {
    "colab": {
     "base_uri": "https://localhost:8080/"
    },
    "id": "rNBd-5m9H9rQ",
    "outputId": "76f9e391-f95c-448e-f8a3-09f2590ab863"
   },
   "outputs": [],
   "source": [
    "history.history.keys()"
   ]
  },
  {
   "cell_type": "code",
   "execution_count": null,
   "metadata": {
    "id": "qqVuBWtGIAef"
   },
   "outputs": [],
   "source": [
    "accuracy_norm_gray_noise = history.history['accuracy']\n",
    "loss_norm_gray_noise = history.history['loss']"
   ]
  },
  {
   "cell_type": "code",
   "execution_count": null,
   "metadata": {
    "colab": {
     "base_uri": "https://localhost:8080/",
     "height": 936
    },
    "id": "1pbT2Uo9FUgb",
    "outputId": "c24e3120-6beb-4888-a389-787ca8a63e19"
   },
   "outputs": [],
   "source": [
    "#See the model with reduce noise the score and accuracy in a graph\n",
    "epochs = range(len(accuracy_norm_gray_noise))\n",
    "plt.figure()\n",
    "plt.plot(epochs, accuracy_norm_gray_noise, 'b', color = 'r', label='Training Noise Random Acuracy')\n",
    "plt.xlabel('Epochs')\n",
    "plt.ylabel('accuracy')\n",
    "plt.legend();\n",
    "\n",
    "plt.figure()\n",
    "plt.plot(epochs, loss_norm_gray_noise, 'b', label='Training Noise Random Loos')\n",
    "plt.xlabel('Epochs')\n",
    "plt.ylabel('Loss')\n",
    "plt.legend();"
   ]
  },
  {
   "cell_type": "code",
   "execution_count": null,
   "metadata": {
    "colab": {
     "base_uri": "https://localhost:8080/"
    },
    "id": "zVGXoFJdIJjx",
    "outputId": "a0ffd706-a7a5-4b61-a4a5-bdfe46ddcb88"
   },
   "outputs": [],
   "source": [
    "# RMSprop optimizer\n",
    "optimizer = tf.keras.optimizers.RMSprop(learning_rate=0.0001)\n",
    "\n",
    "# Compile the model using the new optimizer\n",
    "model.compile(optimizer='adam', loss='categorical_crossentropy', metrics=['accuracy'])\n",
    "history = model.fit(x_train_norm_gray_noise_smoothed, y_train, epochs=150, batch_size=50, validation_data=(x_val_norm_gray_noise_smoothed, y_val),callbacks=[early_stopping])"
   ]
  },
  {
   "cell_type": "code",
   "execution_count": null,
   "metadata": {
    "colab": {
     "base_uri": "https://localhost:8080/"
    },
    "id": "YuwZ2_TEMdqP",
    "outputId": "576f89d8-908a-4dab-d60d-6aa60d8ef39d"
   },
   "outputs": [],
   "source": [
    "#See the score in the x_test_norm_gray_noise that is just normalize, become in grayscale and reduce the noise with gaussian_filter\n",
    "score = model.evaluate(x_test_norm_gray_noise_smoothed, y_test)\n",
    "print('Test Acurracy: {}'.format(score[1]))"
   ]
  },
  {
   "cell_type": "code",
   "execution_count": null,
   "metadata": {
    "colab": {
     "base_uri": "https://localhost:8080/"
    },
    "id": "klDM51rEQFYn",
    "outputId": "9246c8f1-eb4b-4a3c-f39a-76cc65f3c437"
   },
   "outputs": [],
   "source": [
    "history.history.keys()"
   ]
  },
  {
   "cell_type": "code",
   "execution_count": null,
   "metadata": {
    "id": "mRxxkJU7Ra6I"
   },
   "outputs": [],
   "source": [
    "accuracy_norm_gray_noise_smoothed = history.history['accuracy']\n",
    "loss_norm_gray_noise_smoothed = history.history['loss']"
   ]
  },
  {
   "cell_type": "code",
   "execution_count": null,
   "metadata": {
    "colab": {
     "base_uri": "https://localhost:8080/",
     "height": 936
    },
    "id": "A5vQvAjiReuY",
    "outputId": "6f6e22cd-8576-4a66-ea3e-be09adb49486"
   },
   "outputs": [],
   "source": [
    "#See the model with reduce noise with gaussian_filte the score and accuracy in a graph\n",
    "epochs = range(len(accuracy_norm_gray_noise_smoothed))\n",
    "plt.figure()\n",
    "plt.plot(epochs, accuracy_norm_gray_noise_smoothed, 'b', color = 'r', label='Training Noise Smoothad Acuracy')\n",
    "plt.xlabel('Epochs')\n",
    "plt.ylabel('accuracy')\n",
    "plt.legend();\n",
    "\n",
    "plt.figure()\n",
    "plt.plot(epochs, loss_norm_gray_noise_smoothed, 'b', label='Training Noise Smoothad Loos')\n",
    "plt.xlabel('Epochs')\n",
    "plt.ylabel('Loss')\n",
    "plt.legend();"
   ]
  },
  {
   "cell_type": "code",
   "execution_count": null,
   "metadata": {
    "colab": {
     "base_uri": "https://localhost:8080/",
     "height": 1000
    },
    "id": "D9H-XWqpS1pZ",
    "outputId": "0d6d71bf-dd0c-4022-ceb3-5a924abf891d"
   },
   "outputs": [],
   "source": [
    "epochs = range(len(accuracy_norm_gray))\n",
    "plt.plot(epochs, accuracy_norm_gray, 'b', label='Training Accuracy')\n",
    "plt.text(epochs[-1], accuracy_norm_gray[-1], f'Acurracy{accuracy_norm_gray[-1]:.2f}', color='r', fontsize=10, ha='left', va='bottom')\n",
    "plt.legend()\n",
    "plt.figure()\n",
    "\n",
    "epochs = range(len(accuracy_norm_gray_noise))\n",
    "plt.plot(epochs, accuracy_norm_gray_noise, 'b', label='Training (Noise) Accuracy')\n",
    "plt.text(epochs[-1], accuracy_norm_gray_noise[-1], f'Acurracy{accuracy_norm_gray_noise[-1]:.2f}', color='r', fontsize=10, ha='left', va='bottom')\n",
    "plt.legend()\n",
    "plt.figure()\n",
    "\n",
    "epochs = range(len(accuracy_norm_gray_noise_smoothed))\n",
    "plt.plot(epochs, accuracy_norm_gray_noise_smoothed, 'b', label='Training (Smoothed) Accuracy')\n",
    "plt.text(epochs[-1], accuracy_norm_gray_noise_smoothed[-1], f'Acurracy{accuracy_norm_gray_noise_smoothed[-1]:.2f}', color='r', fontsize=10, ha='left', va='bottom')\n",
    "plt.legend()\n",
    "plt.figure()"
   ]
  },
  {
   "cell_type": "code",
   "execution_count": null,
   "metadata": {
    "colab": {
     "base_uri": "https://localhost:8080/",
     "height": 1000
    },
    "id": "Yrfw8Eu9b-xH",
    "outputId": "bd0c85df-7e31-49c1-a6d8-70edefbc7196"
   },
   "outputs": [],
   "source": [
    "epochs = range(len(loss_norm_gray))\n",
    "plt.plot(epochs, loss_norm_gray, 'b', label='Training Accuracy')\n",
    "plt.text(epochs[-1], loss_norm_gray[-1], f'Loss{loss_norm_gray[-1]:.2f}', color='r', fontsize=10, ha='left', va='bottom')\n",
    "plt.legend()\n",
    "plt.figure()\n",
    "\n",
    "epochs = range(len(loss_norm_gray_noise))\n",
    "plt.plot(epochs, loss_norm_gray_noise, 'b', label='Training (Noise) Accuracy')\n",
    "plt.text(epochs[-1], loss_norm_gray_noise[-1], f'Loss{loss_norm_gray_noise[-1]:.2f}', color='r', fontsize=10, ha='left', va='bottom')\n",
    "plt.legend()\n",
    "plt.figure()\n",
    "\n",
    "epochs = range(len(loss_norm_gray_noise_smoothed))\n",
    "plt.plot(epochs, loss_norm_gray_noise_smoothed, 'b', label='Training (Smoothed) Accuracy')\n",
    "plt.text(epochs[-1], loss_norm_gray_noise_smoothed[-1], f'Loss{loss_norm_gray_noise_smoothed[-1]:.2f}', color='r', fontsize=10, ha='left', va='bottom')\n",
    "plt.legend()\n",
    "plt.figure()"
   ]
  },
  {
   "cell_type": "code",
   "execution_count": null,
   "metadata": {
    "colab": {
     "base_uri": "https://localhost:8080/"
    },
    "id": "zejfOmA721aT",
    "outputId": "11edd417-1b42-469e-c5b9-ecdbb008ee87"
   },
   "outputs": [],
   "source": [
    "pred_norm_gray = model.predict(x_test_norm_gray)\n",
    "pred_norm_gray_noise = model.predict(x_test_norm_gray_noise)\n",
    "pred_norm_gray_smoothed = model.predict(x_test_norm_gray_noise_smoothed)"
   ]
  },
  {
   "cell_type": "code",
   "execution_count": null,
   "metadata": {
    "colab": {
     "base_uri": "https://localhost:8080/",
     "height": 1000
    },
    "id": "U-zQDCxe2z-F",
    "outputId": "01ba2cad-19c2-4d4d-bf4a-ab641af55ee3"
   },
   "outputs": [],
   "source": [
    "#See a graph with predict values and real values in the noise dataset\n",
    "L = 7\n",
    "W = 7\n",
    "\n",
    "fig, axes = plt.subplots(L, W, figsize=(15, 15))\n",
    "axes = axes.ravel()\n",
    "\n",
    "for i in range(L * W):\n",
    "    prediction = int(pred_norm_gray[i][0])\n",
    "    true_label_index = np.argmax(y_test[i])  # Get the index of the class with value 1\n",
    "\n",
    "    axes[i].imshow(x_test_norm_gray[i], cmap='gray')\n",
    "    axes[i].set_title('Prediction = {}\\nTrue = {}'.format(prediction, true_label_index))\n",
    "    axes[i].axis('off')\n",
    "\n",
    "plt.subplots_adjust(wspace=1)\n",
    "plt.show()\n"
   ]
  },
  {
   "cell_type": "code",
   "execution_count": null,
   "metadata": {
    "colab": {
     "base_uri": "https://localhost:8080/",
     "height": 1000
    },
    "id": "K0AUsZUe-FJ2",
    "outputId": "7ba501e3-4127-44fe-b698-b40809df2069"
   },
   "outputs": [],
   "source": [
    "#See a graph with predict values and real values in the noise dataset\n",
    "L = 7\n",
    "W = 7\n",
    "\n",
    "fig, axes = plt.subplots(L, W, figsize=(15, 15))\n",
    "axes = axes.ravel()\n",
    "\n",
    "for i in range(L * W):\n",
    "    prediction = int(pred_norm_gray_noise[i][0])\n",
    "    true_label_index = np.argmax(y_test[i])  # Get the index of the class with value 1\n",
    "\n",
    "    axes[i].imshow(x_test_norm_gray_noise[i], cmap='gray')\n",
    "    axes[i].set_title('Prediction = {}\\nTrue = {}'.format(prediction, true_label_index))\n",
    "    axes[i].axis('off')\n",
    "\n",
    "plt.subplots_adjust(wspace=1)\n",
    "plt.show()"
   ]
  },
  {
   "cell_type": "code",
   "execution_count": null,
   "metadata": {
    "colab": {
     "base_uri": "https://localhost:8080/",
     "height": 1000
    },
    "id": "2mxw9AYt-xEp",
    "outputId": "4bc1159b-14fd-444d-8663-2ef222fc0514"
   },
   "outputs": [],
   "source": [
    "#See a graph with predict values and real values in the noise dataset\n",
    "L = 7\n",
    "W = 7\n",
    "\n",
    "fig, axes = plt.subplots(L, W, figsize=(15, 15))\n",
    "axes = axes.ravel()\n",
    "\n",
    "for i in range(L * W):\n",
    "    prediction = int(pred_norm_gray_smoothed[i][0])\n",
    "    true_label_index = np.argmax(y_test[i])  # Get the index of the class with value 1\n",
    "\n",
    "    axes[i].imshow(x_test_norm_gray_noise_smoothed[i], cmap='gray')\n",
    "    axes[i].set_title('Prediction = {}\\nTrue = {}'.format(prediction, true_label_index))\n",
    "    axes[i].axis('off')\n",
    "\n",
    "plt.subplots_adjust(wspace=1)\n",
    "plt.show()"
   ]
  },
  {
   "cell_type": "code",
   "execution_count": null,
   "metadata": {
    "id": "-thdUp0v-68Q"
   },
   "outputs": [],
   "source": []
  }
 ],
 "metadata": {
  "accelerator": "GPU",
  "colab": {
   "authorship_tag": "ABX9TyOEz/G5nIgvQpU85UVOWUGR",
   "include_colab_link": true,
   "mount_file_id": "1lJ6ry9B-fZJtjEoqBUbzZlx69l4iB8ag",
   "provenance": []
  },
  "kernelspec": {
   "display_name": "Python 3 (ipykernel)",
   "language": "python",
   "name": "python3"
  },
  "language_info": {
   "codemirror_mode": {
    "name": "ipython",
    "version": 3
   },
   "file_extension": ".py",
   "mimetype": "text/x-python",
   "name": "python",
   "nbconvert_exporter": "python",
   "pygments_lexer": "ipython3",
   "version": "3.11.5"
  }
 },
 "nbformat": 4,
 "nbformat_minor": 1
}
