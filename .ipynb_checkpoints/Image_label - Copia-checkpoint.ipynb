{
 "cells": [
  {
   "cell_type": "markdown",
   "metadata": {
    "colab_type": "text",
    "id": "view-in-github"
   },
   "source": [
    "<a href=\"https://colab.research.google.com/github/lucasfreire01/Recognition_iamges_labels/blob/main/Image_label.ipynb\" target=\"_parent\"><img src=\"https://colab.research.google.com/assets/colab-badge.svg\" alt=\"Open In Colab\"/></a>"
   ]
  },
  {
   "cell_type": "markdown",
   "metadata": {
    "id": "xM_1pdrkeUm1"
   },
   "source": [
    "# **EDA**"
   ]
  },
  {
   "cell_type": "code",
   "execution_count": 1,
   "metadata": {
    "id": "5Zp3HHpfJXr_"
   },
   "outputs": [
    {
     "name": "stdout",
     "output_type": "stream",
     "text": [
      "WARNING:tensorflow:From C:\\Users\\liams\\anaconda3\\Lib\\site-packages\\keras\\src\\losses.py:2976: The name tf.losses.sparse_softmax_cross_entropy is deprecated. Please use tf.compat.v1.losses.sparse_softmax_cross_entropy instead.\n",
      "\n"
     ]
    }
   ],
   "source": [
    "#load the libraries\n",
    "import tensorflow as tf\n",
    "import pandas as pd\n",
    "import numpy as np\n",
    "import matplotlib.pyplot as plt\n",
    "import pickle\n",
    "import seaborn as sns\n",
    "import zipfile"
   ]
  },
  {
   "cell_type": "code",
   "execution_count": 5,
   "metadata": {
    "colab": {
     "base_uri": "https://localhost:8080/"
    },
    "id": "X_q6n2x46zfd",
    "outputId": "c21e897a-c508-403c-c1c1-3e78c20b7602"
   },
   "outputs": [
    {
     "name": "stdout",
     "output_type": "stream",
     "text": [
      "Gpu active!\n"
     ]
    }
   ],
   "source": [
    "from test import is_gpu_active\n",
    "\n",
    "if is_gpu_active:\n",
    "    print(\"Gpu active!\")\n",
    "    \n",
    "else:\n",
    "    print(\"Error\")"
   ]
  },
  {
   "cell_type": "code",
   "execution_count": 7,
   "metadata": {
    "id": "7Gi8SCygLOOl"
   },
   "outputs": [
    {
     "ename": "TypeError",
     "evalue": "'type' object is not iterable",
     "output_type": "error",
     "traceback": [
      "\u001b[1;31m---------------------------------------------------------------------------\u001b[0m",
      "\u001b[1;31mTypeError\u001b[0m                                 Traceback (most recent call last)",
      "Cell \u001b[1;32mIn[7], line 1\u001b[0m\n\u001b[1;32m----> 1\u001b[0m \u001b[38;5;28;01mfrom\u001b[39;00m \u001b[38;5;21;01mdata\u001b[39;00m \u001b[38;5;28;01mimport\u001b[39;00m load_dataset\n\u001b[0;32m      2\u001b[0m (x_train, y_train), (x_test,y_test) \u001b[38;5;241m=\u001b[39m load_dataset(return_test\u001b[38;5;241m=\u001b[39m\u001b[38;5;28;01mTrue\u001b[39;00m)\n",
      "File \u001b[1;32m~\\Desktop\\projeto_lucas\\data\\__init__.py:1\u001b[0m\n\u001b[1;32m----> 1\u001b[0m \u001b[38;5;28;01mfrom\u001b[39;00m \u001b[38;5;21;01m.\u001b[39;00m\u001b[38;5;21;01mmake_data\u001b[39;00m \u001b[38;5;28;01mimport\u001b[39;00m load_dataset\n",
      "File \u001b[1;32m~\\Desktop\\projeto_lucas\\data\\make_data.py:4\u001b[0m\n\u001b[0;32m      1\u001b[0m \u001b[38;5;28;01mimport\u001b[39;00m \u001b[38;5;21;01mtensorflow\u001b[39;00m\n\u001b[1;32m----> 4\u001b[0m \u001b[38;5;28;01mdef\u001b[39;00m \u001b[38;5;21mload_dataset\u001b[39m(return_test\u001b[38;5;241m=\u001b[39m\u001b[38;5;28;01mTrue\u001b[39;00m) \u001b[38;5;241m-\u001b[39m\u001b[38;5;241m>\u001b[39m \u001b[38;5;28mtuple\u001b[39m(\u001b[38;5;28mtuple\u001b[39m):\n\u001b[0;32m      5\u001b[0m     \u001b[38;5;28;01mif\u001b[39;00m return_test:\n\u001b[0;32m      6\u001b[0m         \u001b[38;5;28;01mreturn\u001b[39;00m tensorflow\u001b[38;5;241m.\u001b[39mkeras\u001b[38;5;241m.\u001b[39mdatasets\u001b[38;5;241m.\u001b[39mcifar10\u001b[38;5;241m.\u001b[39mload_data()\n",
      "\u001b[1;31mTypeError\u001b[0m: 'type' object is not iterable"
     ]
    }
   ],
   "source": [
    "from data import load_dataset\n",
    "(x_train, y_train), (x_test,y_test) = load_dataset(return_test=True)"
   ]
  },
  {
   "cell_type": "code",
   "execution_count": 4,
   "metadata": {},
   "outputs": [
    {
     "ename": "ZeroDivisionError",
     "evalue": "integer modulo by zero",
     "output_type": "error",
     "traceback": [
      "\u001b[1;31m---------------------------------------------------------------------------\u001b[0m",
      "\u001b[1;31mZeroDivisionError\u001b[0m                         Traceback (most recent call last)",
      "Cell \u001b[1;32mIn[4], line 1\u001b[0m\n\u001b[1;32m----> 1\u001b[0m \u001b[38;5;241m1\u001b[39m\u001b[38;5;241m%\u001b[39m\u001b[38;5;241m0\u001b[39m\n",
      "\u001b[1;31mZeroDivisionError\u001b[0m: integer modulo by zero"
     ]
    }
   ],
   "source": [
    "1%0"
   ]
  },
  {
   "cell_type": "code",
   "execution_count": null,
   "metadata": {
    "id": "2II2Eg60RVzN"
   },
   "outputs": [],
   "source": [
    "#take the validation values in the normalize train datasets\n",
    "from sklearn.model_selection import train_test_split\n",
    "x_train, x_val, y_train, y_val = train_test_split(x_train, y_train, test_size=0.2, random_state=42)"
   ]
  },
  {
   "cell_type": "code",
   "execution_count": null,
   "metadata": {
    "colab": {
     "base_uri": "https://localhost:8080/"
    },
    "id": "2qoDuaj1CD0x",
    "outputId": "29d22d12-0040-4048-efdb-90a80dff1008"
   },
   "outputs": [],
   "source": [
    "x_train"
   ]
  },
  {
   "cell_type": "code",
   "execution_count": null,
   "metadata": {
    "colab": {
     "base_uri": "https://localhost:8080/"
    },
    "id": "0zM6N4JYP1JE",
    "outputId": "159c39b4-69ca-455c-b850-6ae4b6674c25"
   },
   "outputs": [],
   "source": [
    "x_train.shape"
   ]
  },
  {
   "cell_type": "code",
   "execution_count": null,
   "metadata": {
    "colab": {
     "base_uri": "https://localhost:8080/"
    },
    "id": "_Vl1rhLJP8OL",
    "outputId": "59a1fb00-d8da-4bcc-a252-0ba168be07b0"
   },
   "outputs": [],
   "source": [
    "x_test.shape"
   ]
  },
  {
   "cell_type": "code",
   "execution_count": null,
   "metadata": {
    "colab": {
     "base_uri": "https://localhost:8080/"
    },
    "id": "tUMZng7c9UQi",
    "outputId": "e9080fea-2de0-47ba-f2fc-11b6f301b712"
   },
   "outputs": [],
   "source": [
    "y_train.shape"
   ]
  },
  {
   "cell_type": "code",
   "execution_count": null,
   "metadata": {
    "colab": {
     "base_uri": "https://localhost:8080/"
    },
    "id": "0xrgx3or9X9H",
    "outputId": "9d3bb71b-52b2-4b32-915a-ce933aa58820"
   },
   "outputs": [],
   "source": [
    "x_test.shape"
   ]
  },
  {
   "cell_type": "code",
   "execution_count": null,
   "metadata": {
    "colab": {
     "base_uri": "https://localhost:8080/",
     "height": 447
    },
    "id": "Jr-AeFg0bXJv",
    "outputId": "486154bb-b9ac-4155-a735-1406d4a15f31"
   },
   "outputs": [],
   "source": [
    "#plot a random image\n",
    "i = np.random.randint(0, 1000)\n",
    "plt.figure()\n",
    "plt.imshow(x_train[i])"
   ]
  },
  {
   "cell_type": "code",
   "execution_count": null,
   "metadata": {
    "colab": {
     "base_uri": "https://localhost:8080/",
     "height": 1000
    },
    "id": "nwvPyRoHb4NK",
    "outputId": "c29aa658-fff1-4f98-f3be-aa8627435a76"
   },
   "outputs": [],
   "source": [
    "#See the picture and yours lables\n",
    "w = 4\n",
    "l = 4\n",
    "fig, axes = plt.subplots(l,w, figsize=(15,15))\n",
    "axes = axes.ravel()\n",
    "\n",
    "n_train = len(x_train)\n",
    "for i in np.arange(0, l* w):\n",
    "    index = np.random.randint(0, n_train)\n",
    "    axes[i].imshow(x_train[index])\n",
    "    axes[i].set_title(y_train[index])\n",
    "    axes[i].axis('off')\n"
   ]
  },
  {
   "cell_type": "markdown",
   "metadata": {
    "id": "ERAdt3bVd6Ay"
   },
   "source": [
    "# **Pre_Pocessing**"
   ]
  },
  {
   "cell_type": "code",
   "execution_count": null,
   "metadata": {
    "id": "vpAFnSWkeCGE"
   },
   "outputs": [],
   "source": [
    "#Transform in float32 to become these datas more computationally cheap\n",
    "x_train = x_train.astype('float32')\n",
    "x_test = x_test.astype('float32')\n",
    "x_val = x_val.astype('float32')"
   ]
  },
  {
   "cell_type": "code",
   "execution_count": null,
   "metadata": {
    "colab": {
     "base_uri": "https://localhost:8080/"
    },
    "id": "CZrkhqZmeaTI",
    "outputId": "9ca0b560-9da2-4a02-d1b0-08479ee577a4"
   },
   "outputs": [],
   "source": [
    "#See the label values\n",
    "unique_values, counts = np.unique(y_train, return_counts=True)\n",
    "for value, count in zip(unique_values, counts):\n",
    "    print(f\"y_train label {value}: have {count} times\")"
   ]
  },
  {
   "cell_type": "code",
   "execution_count": null,
   "metadata": {
    "id": "x4TEJ6yugi75"
   },
   "outputs": [],
   "source": [
    "#Create a def to encoding the y datasets\n",
    "def encoding(x, cat):\n",
    "  x = tf.keras.utils.to_categorical(x, cat)\n",
    "  return x\n",
    "\n",
    "y_train = encoding(y_train, 10)\n",
    "y_test = encoding(y_test, 10)\n",
    "y_val = encoding(y_val, 10)"
   ]
  },
  {
   "cell_type": "code",
   "execution_count": null,
   "metadata": {
    "id": "7kWld6fp9cpg"
   },
   "outputs": [],
   "source": [
    "#Normalizate the train database\n",
    "def normalization(var):\n",
    "  var_norm = var / 255.0\n",
    "  return var_norm"
   ]
  },
  {
   "cell_type": "code",
   "execution_count": null,
   "metadata": {
    "id": "vn5ecvWi9-na"
   },
   "outputs": [],
   "source": [
    "x_train_norm = normalization(x_train)\n",
    "x_test_norm = normalization(x_test)\n",
    "x_val_norm = normalization(x_val)"
   ]
  },
  {
   "cell_type": "code",
   "execution_count": null,
   "metadata": {
    "id": "RopLdqR7HQmI"
   },
   "outputs": [],
   "source": [
    "#Transform in grayscale\n",
    "def grayscale(x):\n",
    "  x= np.sum(x / 3, axis=3, keepdims=True)\n",
    "  return x\n",
    "\n",
    "x_train_norm_gray = grayscale(x_train_norm)\n",
    "x_test_norm_gray = grayscale(x_test_norm)\n",
    "x_val_norm_gray = grayscale(x_val_norm)"
   ]
  },
  {
   "cell_type": "code",
   "execution_count": null,
   "metadata": {
    "colab": {
     "base_uri": "https://localhost:8080/"
    },
    "id": "bGQZfoNXORVT",
    "outputId": "0c2e8a85-f341-4342-f2aa-8f9e00db9391"
   },
   "outputs": [],
   "source": [
    "y_train.shape"
   ]
  },
  {
   "cell_type": "code",
   "execution_count": null,
   "metadata": {
    "colab": {
     "base_uri": "https://localhost:8080/"
    },
    "id": "cfr28wPXOVof",
    "outputId": "9ab4e428-4cd9-4035-eaf0-ee30562e3fcd"
   },
   "outputs": [],
   "source": [
    "x_train_norm_gray.shape"
   ]
  },
  {
   "cell_type": "code",
   "execution_count": null,
   "metadata": {
    "colab": {
     "base_uri": "https://localhost:8080/"
    },
    "id": "cBkWG38BTQoY",
    "outputId": "c8adb700-50b8-4fe1-b08a-4675852f6aa3"
   },
   "outputs": [],
   "source": [
    "x_train_norm.shape"
   ]
  },
  {
   "cell_type": "code",
   "execution_count": null,
   "metadata": {
    "colab": {
     "base_uri": "https://localhost:8080/",
     "height": 904
    },
    "id": "L7_UnozRFtvo",
    "outputId": "6ca00c2e-7739-4164-8bf4-db67d5cab8cf"
   },
   "outputs": [],
   "source": [
    "i = np.random.randint(0, 40000)\n",
    "\n",
    "# Visualize the original image\n",
    "plt.figure()\n",
    "plt.title(\"Original train image\")\n",
    "plt.imshow((x_train[i] * 255).astype(np.uint8))\n",
    "# Visualize the normalized grayscale version\n",
    "plt.figure()\n",
    "plt.title(\"Image train gray base norm\")\n",
    "plt.imshow(x_train_norm_gray[i].squeeze(), cmap='gray', vmin=0, vmax=1)\n",
    "\n"
   ]
  },
  {
   "cell_type": "code",
   "execution_count": null,
   "metadata": {
    "colab": {
     "base_uri": "https://localhost:8080/"
    },
    "id": "sQ4W91F1XSFm",
    "outputId": "d9ca3faa-29aa-46c0-efe5-4ce57791c1da"
   },
   "outputs": [],
   "source": [
    "x_train_norm.shape"
   ]
  },
  {
   "cell_type": "code",
   "execution_count": null,
   "metadata": {
    "colab": {
     "base_uri": "https://localhost:8080/",
     "height": 1000
    },
    "id": "no8BISvzSQ13",
    "outputId": "a8df6165-b988-4f38-c408-6b3cf33a1719"
   },
   "outputs": [],
   "source": [
    "#Noise random\n",
    "from scipy.ndimage import gaussian_filter\n",
    "\n",
    "#Create a def to noise random\n",
    "def random_noise(x):\n",
    "  return x + 0.1 * np.random.normal(size=x.shape)\n",
    "\n",
    "x_train_norm_gray_noise = random_noise(x_train_norm_gray)\n",
    "x_val_norm_gray_noise = random_noise(x_val_norm_gray)\n",
    "\n",
    "\n",
    "#Create a def to gaussian_filter\n",
    "def gaussian_filter_smoothad(x, simga):\n",
    "  x = gaussian_filter(x, sigma=sigma)\n",
    "  return x\n",
    "\n",
    "x_train_norm_gray_noise_smoothed = gaussian_filter_smoothad(x_train_norm_gray_noise, 1)\n",
    "x_val_norm_gray_noise_smoothed = gaussian_filter_smoothad(x_val_norm_gray_noise, 1)\n",
    "\n",
    "# Plot the original, norm, smoothed and noise images for comparison\n",
    "plt.figure()\n",
    "plt.imshow((x_train[0] * 255).astype(np.uint8))\n",
    "plt.title('Original Norm Image')\n",
    "\n",
    "plt.figure()\n",
    "plt.imshow(x_train_norm_gray[0], cmap='gray')\n",
    "plt.title('Norm Image')\n",
    "\n",
    "plt.figure()\n",
    "plt.imshow(x_train_norm_gray_noise_smoothed[0], cmap='gray')\n",
    "plt.title('Smoothed Norm Image')\n",
    "\n",
    "plt.figure()\n",
    "plt.imshow(x_train_norm_gray_noise[0], cmap='gray')\n",
    "plt.title('Norm Norse Image')"
   ]
  },
  {
   "cell_type": "code",
   "execution_count": null,
   "metadata": {
    "colab": {
     "base_uri": "https://localhost:8080/",
     "height": 1000
    },
    "id": "Ch3gSC7BZe8Z",
    "outputId": "0eb1bbce-fd69-4aec-98ba-f27a9ec743c8"
   },
   "outputs": [],
   "source": [
    "#See these images in the x_test varaible\n",
    "from scipy.ndimage import gaussian_filter\n",
    "x_test_norm_gray_noise = x_test_norm_gray + 0.1 * np.random.normal(size=x_test_norm_gray.shape)\n",
    "\n",
    "sigma = 1\n",
    "x_test_norm_gray_noise_smoothed = gaussian_filter(x_test_norm_gray_noise, sigma=sigma)\n",
    "\n",
    "# Plot the original, norm, smoothed and noise images for comparison\n",
    "plt.figure()\n",
    "plt.imshow((x_test[0] * 255).astype(np.uint8))\n",
    "plt.title('Original Image')\n",
    "\n",
    "plt.figure()\n",
    "plt.imshow(x_test_norm_gray[0], cmap='gray')\n",
    "plt.title('Norm Image')\n",
    "\n",
    "plt.figure()\n",
    "plt.imshow(x_test_norm_gray_noise_smoothed[0], cmap='gray')\n",
    "plt.title('Smoothed Norm Image')\n",
    "\n",
    "plt.figure()\n",
    "plt.imshow(x_test_norm_gray_noise[0], cmap='gray')\n",
    "plt.title('Norm Norse Image')"
   ]
  },
  {
   "cell_type": "code",
   "execution_count": null,
   "metadata": {
    "colab": {
     "base_uri": "https://localhost:8080/"
    },
    "id": "nzCtkWOWa1kn",
    "outputId": "69ba457e-7b5e-45c3-b99a-815747ba93c1"
   },
   "outputs": [],
   "source": [
    "x_test_norm_gray.shape"
   ]
  },
  {
   "cell_type": "markdown",
   "metadata": {
    "id": "0CKsfvmjzkXD"
   },
   "source": [
    "# **Model**"
   ]
  },
  {
   "cell_type": "code",
   "execution_count": null,
   "metadata": {
    "id": "5e_SN_lKn-ya"
   },
   "outputs": [],
   "source": [
    "from tensorflow.keras import layers, models\n",
    "\n",
    "from tensorflow.keras.callbacks import EarlyStopping\n",
    "\n",
    "def inception_block(x, filters):\n",
    "    # Convolution 1x1\n",
    "    conv1x1 = layers.Conv2D(filters[0], (1, 1), padding='same', activation='relu')(x)\n",
    "    # Convolution 3x3\n",
    "    conv3x3 = layers.Conv2D(filters[1], (3, 3), padding='same', activation='relu')(x)\n",
    "    # Convolution 5x5\n",
    "    conv5x5 = layers.Conv2D(filters[2], (5, 5), padding='same', activation='relu')(x)\n",
    "    # Add maxpooling\n",
    "    maxpool = layers.MaxPooling2D((3, 3), strides=(1, 1), padding='same')(x)\n",
    "    maxpool_conv1x1 = layers.Conv2D(filters[3], (1, 1), padding='same', activation='relu')(maxpool)\n",
    "    # Concatenate the convolution\n",
    "    inception_block = layers.concatenate([conv1x1, conv3x3, conv5x5, maxpool_conv1x1], axis=-1)\n",
    "    return inception_block\n",
    "\n",
    "def GoogleNet(input_shape=(32, 32, 1), num_classes=10):\n",
    "    input_layer = layers.Input(shape=input_shape)\n",
    "\n",
    "    x = layers.Conv2D(64, (7, 7), strides=(2, 2), padding='same', activation='relu')(input_layer)\n",
    "    x = layers.MaxPooling2D((3, 3), strides=(2, 2), padding='same')(x)\n",
    "\n",
    "    x = inception_block(x, [64, 128, 32, 32])\n",
    "    x = inception_block(x, [128, 192, 96, 64])\n",
    "    x = layers.MaxPooling2D((3, 3), strides=(2, 2), padding='same')(x)\n",
    "\n",
    "    # Apply Dropout as a layer\n",
    "    x = layers.Dropout(0.5)(x)\n",
    "\n",
    "    x = layers.GlobalAveragePooling2D()(x)\n",
    "\n",
    "    # Apply Dropout as a layer\n",
    "    x = layers.Dropout(0.5)(x)\n",
    "\n",
    "    x = layers.Flatten()(x)\n",
    "\n",
    "    # Fully Connected Layer\n",
    "    x = layers.Dense(num_classes, activation='softmax')(x)\n",
    "\n",
    "    model = models.Model(inputs=input_layer, outputs=x)\n",
    "\n",
    "    # Define EarlyStopping callback\n",
    "    early_stopping = EarlyStopping(monitor='val_loss', patience=3, restore_best_weights=True)\n",
    "\n",
    "    return model, early_stopping"
   ]
  },
  {
   "cell_type": "code",
   "execution_count": null,
   "metadata": {
    "colab": {
     "base_uri": "https://localhost:8080/"
    },
    "id": "x1fW0ovfO8RN",
    "outputId": "2774077f-4647-4975-b194-e59bb96cdf54"
   },
   "outputs": [],
   "source": [
    "model, early_stopping = GoogleNet()\n",
    "model.summary()"
   ]
  },
  {
   "cell_type": "code",
   "execution_count": null,
   "metadata": {
    "colab": {
     "base_uri": "https://localhost:8080/"
    },
    "id": "Hzep23UO_kfq",
    "outputId": "6ec3553f-6b51-41b6-9606-564276e14492"
   },
   "outputs": [],
   "source": [
    "# Example usage of inception_block to see the summary\n",
    "input_tensor = layers.Input(shape=(224, 224, 3))  # Adjust the input shape accordingly\n",
    "output_tensor = inception_block(input_tensor, filters=[64, 128, 32, 32])\n",
    "\n",
    "# Create a model using the functional API\n",
    "inception_model = models.Model(inputs=input_tensor, outputs=output_tensor)\n",
    "\n",
    "# Display the model summary\n",
    "inception_model.summary()"
   ]
  },
  {
   "cell_type": "code",
   "execution_count": null,
   "metadata": {
    "colab": {
     "base_uri": "https://localhost:8080/"
    },
    "id": "Pdp3lb8PPren",
    "outputId": "7d0f121d-e3fe-4eff-9c94-cbfe66e38d4f"
   },
   "outputs": [],
   "source": [
    "x_train_norm_gray.shape"
   ]
  },
  {
   "cell_type": "code",
   "execution_count": null,
   "metadata": {
    "colab": {
     "base_uri": "https://localhost:8080/"
    },
    "id": "oZnpdx21Pv0f",
    "outputId": "a35c897a-f2d6-407a-aa63-3d38c4e7cb00"
   },
   "outputs": [],
   "source": [
    "y_train.shape"
   ]
  },
  {
   "cell_type": "code",
   "execution_count": null,
   "metadata": {
    "colab": {
     "base_uri": "https://localhost:8080/"
    },
    "id": "y8yDGdEuTE2Q",
    "outputId": "3d34f3d1-e1c4-4a52-aa71-5381eb38a159"
   },
   "outputs": [],
   "source": [
    "# RMSprop optimizer\n",
    "optimizer = tf.keras.optimizers.RMSprop(learning_rate=0.0001)\n",
    "\n",
    "# Compile the model using the new optimizer\n",
    "model.compile(optimizer='adam', loss='categorical_crossentropy', metrics=['accuracy'])\n",
    "history = model.fit(x_train_norm_gray, y_train, epochs=100, batch_size=32, validation_data=(x_val_norm_gray, y_val),callbacks=[early_stopping])\n"
   ]
  },
  {
   "cell_type": "code",
   "execution_count": null,
   "metadata": {
    "colab": {
     "base_uri": "https://localhost:8080/"
    },
    "id": "0MtckEVjXtNN",
    "outputId": "34a6c4f7-a392-4549-d01f-eb1f4f20d035"
   },
   "outputs": [],
   "source": [
    "#See the score in the x_test_norm_gray that is just normalize and become in grayscale\n",
    "score = model.evaluate(x_test_norm_gray, y_test)\n",
    "print('Test Acurracy: {}'.format(score[1]))"
   ]
  },
  {
   "cell_type": "code",
   "execution_count": null,
   "metadata": {
    "colab": {
     "base_uri": "https://localhost:8080/"
    },
    "id": "hmElqeLEBZPy",
    "outputId": "7f135b2c-713a-4eeb-d6e8-759ca0e47781"
   },
   "outputs": [],
   "source": [
    "history.history.keys()"
   ]
  },
  {
   "cell_type": "code",
   "execution_count": null,
   "metadata": {
    "id": "_MAAJDEdBZqN"
   },
   "outputs": [],
   "source": [
    "accuracy_norm_gray = history.history['accuracy']\n",
    "loss_norm_gray = history.history['loss']"
   ]
  },
  {
   "cell_type": "code",
   "execution_count": null,
   "metadata": {
    "colab": {
     "base_uri": "https://localhost:8080/",
     "height": 936
    },
    "id": "TJGBUptYBbwD",
    "outputId": "4ef467d5-0ee6-4bcc-a569-51024e099553"
   },
   "outputs": [],
   "source": [
    "#See the model the score and accuracy in a graph\n",
    "epochs = range(len(accuracy_norm_gray))\n",
    "plt.figure()\n",
    "plt.plot(epochs, accuracy_norm_gray, 'bo', color = 'r', label='Training Acuracy')\n",
    "plt.xlabel('Epochs')\n",
    "plt.ylabel('accuracy')\n",
    "plt.legend();\n",
    "\n",
    "plt.figure()\n",
    "plt.plot(epochs, loss_norm_gray, 'b', label='Training Loos')\n",
    "plt.xlabel('Epochs')\n",
    "plt.ylabel('Loss')\n",
    "plt.legend();"
   ]
  },
  {
   "cell_type": "code",
   "execution_count": null,
   "metadata": {
    "colab": {
     "base_uri": "https://localhost:8080/"
    },
    "id": "jWDLPOEOB-_6",
    "outputId": "ff6683d0-4dd5-446b-d0a5-eeb18a459546"
   },
   "outputs": [],
   "source": [
    "# RMSprop optimizer\n",
    "optimizer = tf.keras.optimizers.RMSprop(learning_rate=0.0001)\n",
    "\n",
    "# Compile the model using the new optimizer\n",
    "model.compile(optimizer='adam', loss='categorical_crossentropy', metrics=['accuracy'])\n",
    "history = model.fit(x_train_norm_gray_noise, y_train, epochs=150, batch_size=50, validation_data=(x_val_norm_gray_noise, y_val),callbacks=[early_stopping])"
   ]
  },
  {
   "cell_type": "code",
   "execution_count": null,
   "metadata": {
    "colab": {
     "base_uri": "https://localhost:8080/"
    },
    "id": "-TMf1ffAFMb6",
    "outputId": "4844dfd6-3521-4fe8-f46f-d3c816ab522a"
   },
   "outputs": [],
   "source": [
    "#See the score in the x_test_norm_gray_noise that is just normalize, become in grayscale and reduce the noise with numpy\n",
    "score = model.evaluate(x_test_norm_gray_noise, y_test)\n",
    "print('Test Acurracy: {}'.format(score[1]))"
   ]
  },
  {
   "cell_type": "code",
   "execution_count": null,
   "metadata": {
    "colab": {
     "base_uri": "https://localhost:8080/"
    },
    "id": "rNBd-5m9H9rQ",
    "outputId": "76f9e391-f95c-448e-f8a3-09f2590ab863"
   },
   "outputs": [],
   "source": [
    "history.history.keys()"
   ]
  },
  {
   "cell_type": "code",
   "execution_count": null,
   "metadata": {
    "id": "qqVuBWtGIAef"
   },
   "outputs": [],
   "source": [
    "accuracy_norm_gray_noise = history.history['accuracy']\n",
    "loss_norm_gray_noise = history.history['loss']"
   ]
  },
  {
   "cell_type": "code",
   "execution_count": null,
   "metadata": {
    "colab": {
     "base_uri": "https://localhost:8080/",
     "height": 936
    },
    "id": "1pbT2Uo9FUgb",
    "outputId": "c24e3120-6beb-4888-a389-787ca8a63e19"
   },
   "outputs": [],
   "source": [
    "#See the model with reduce noise the score and accuracy in a graph\n",
    "epochs = range(len(accuracy_norm_gray_noise))\n",
    "plt.figure()\n",
    "plt.plot(epochs, accuracy_norm_gray_noise, 'b', color = 'r', label='Training Noise Random Acuracy')\n",
    "plt.xlabel('Epochs')\n",
    "plt.ylabel('accuracy')\n",
    "plt.legend();\n",
    "\n",
    "plt.figure()\n",
    "plt.plot(epochs, loss_norm_gray_noise, 'b', label='Training Noise Random Loos')\n",
    "plt.xlabel('Epochs')\n",
    "plt.ylabel('Loss')\n",
    "plt.legend();"
   ]
  },
  {
   "cell_type": "code",
   "execution_count": null,
   "metadata": {
    "colab": {
     "base_uri": "https://localhost:8080/"
    },
    "id": "zVGXoFJdIJjx",
    "outputId": "a0ffd706-a7a5-4b61-a4a5-bdfe46ddcb88"
   },
   "outputs": [],
   "source": [
    "# RMSprop optimizer\n",
    "optimizer = tf.keras.optimizers.RMSprop(learning_rate=0.0001)\n",
    "\n",
    "# Compile the model using the new optimizer\n",
    "model.compile(optimizer='adam', loss='categorical_crossentropy', metrics=['accuracy'])\n",
    "history = model.fit(x_train_norm_gray_noise_smoothed, y_train, epochs=150, batch_size=50, validation_data=(x_val_norm_gray_noise_smoothed, y_val),callbacks=[early_stopping])"
   ]
  },
  {
   "cell_type": "code",
   "execution_count": null,
   "metadata": {
    "colab": {
     "base_uri": "https://localhost:8080/"
    },
    "id": "YuwZ2_TEMdqP",
    "outputId": "576f89d8-908a-4dab-d60d-6aa60d8ef39d"
   },
   "outputs": [],
   "source": [
    "#See the score in the x_test_norm_gray_noise that is just normalize, become in grayscale and reduce the noise with gaussian_filter\n",
    "score = model.evaluate(x_test_norm_gray_noise_smoothed, y_test)\n",
    "print('Test Acurracy: {}'.format(score[1]))"
   ]
  },
  {
   "cell_type": "code",
   "execution_count": null,
   "metadata": {
    "colab": {
     "base_uri": "https://localhost:8080/"
    },
    "id": "klDM51rEQFYn",
    "outputId": "9246c8f1-eb4b-4a3c-f39a-76cc65f3c437"
   },
   "outputs": [],
   "source": [
    "history.history.keys()"
   ]
  },
  {
   "cell_type": "code",
   "execution_count": null,
   "metadata": {
    "id": "mRxxkJU7Ra6I"
   },
   "outputs": [],
   "source": [
    "accuracy_norm_gray_noise_smoothed = history.history['accuracy']\n",
    "loss_norm_gray_noise_smoothed = history.history['loss']"
   ]
  },
  {
   "cell_type": "code",
   "execution_count": null,
   "metadata": {
    "colab": {
     "base_uri": "https://localhost:8080/",
     "height": 936
    },
    "id": "A5vQvAjiReuY",
    "outputId": "6f6e22cd-8576-4a66-ea3e-be09adb49486"
   },
   "outputs": [],
   "source": [
    "#See the model with reduce noise with gaussian_filte the score and accuracy in a graph\n",
    "epochs = range(len(accuracy_norm_gray_noise_smoothed))\n",
    "plt.figure()\n",
    "plt.plot(epochs, accuracy_norm_gray_noise_smoothed, 'b', color = 'r', label='Training Noise Smoothad Acuracy')\n",
    "plt.xlabel('Epochs')\n",
    "plt.ylabel('accuracy')\n",
    "plt.legend();\n",
    "\n",
    "plt.figure()\n",
    "plt.plot(epochs, loss_norm_gray_noise_smoothed, 'b', label='Training Noise Smoothad Loos')\n",
    "plt.xlabel('Epochs')\n",
    "plt.ylabel('Loss')\n",
    "plt.legend();"
   ]
  },
  {
   "cell_type": "code",
   "execution_count": null,
   "metadata": {
    "colab": {
     "base_uri": "https://localhost:8080/",
     "height": 1000
    },
    "id": "D9H-XWqpS1pZ",
    "outputId": "0d6d71bf-dd0c-4022-ceb3-5a924abf891d"
   },
   "outputs": [],
   "source": [
    "epochs = range(len(accuracy_norm_gray))\n",
    "plt.plot(epochs, accuracy_norm_gray, 'b', label='Training Accuracy')\n",
    "plt.text(epochs[-1], accuracy_norm_gray[-1], f'Acurracy{accuracy_norm_gray[-1]:.2f}', color='r', fontsize=10, ha='left', va='bottom')\n",
    "plt.legend()\n",
    "plt.figure()\n",
    "\n",
    "epochs = range(len(accuracy_norm_gray_noise))\n",
    "plt.plot(epochs, accuracy_norm_gray_noise, 'b', label='Training (Noise) Accuracy')\n",
    "plt.text(epochs[-1], accuracy_norm_gray_noise[-1], f'Acurracy{accuracy_norm_gray_noise[-1]:.2f}', color='r', fontsize=10, ha='left', va='bottom')\n",
    "plt.legend()\n",
    "plt.figure()\n",
    "\n",
    "epochs = range(len(accuracy_norm_gray_noise_smoothed))\n",
    "plt.plot(epochs, accuracy_norm_gray_noise_smoothed, 'b', label='Training (Smoothed) Accuracy')\n",
    "plt.text(epochs[-1], accuracy_norm_gray_noise_smoothed[-1], f'Acurracy{accuracy_norm_gray_noise_smoothed[-1]:.2f}', color='r', fontsize=10, ha='left', va='bottom')\n",
    "plt.legend()\n",
    "plt.figure()"
   ]
  },
  {
   "cell_type": "code",
   "execution_count": null,
   "metadata": {
    "colab": {
     "base_uri": "https://localhost:8080/",
     "height": 1000
    },
    "id": "Yrfw8Eu9b-xH",
    "outputId": "bd0c85df-7e31-49c1-a6d8-70edefbc7196"
   },
   "outputs": [],
   "source": [
    "epochs = range(len(loss_norm_gray))\n",
    "plt.plot(epochs, loss_norm_gray, 'b', label='Training Accuracy')\n",
    "plt.text(epochs[-1], loss_norm_gray[-1], f'Loss{loss_norm_gray[-1]:.2f}', color='r', fontsize=10, ha='left', va='bottom')\n",
    "plt.legend()\n",
    "plt.figure()\n",
    "\n",
    "epochs = range(len(loss_norm_gray_noise))\n",
    "plt.plot(epochs, loss_norm_gray_noise, 'b', label='Training (Noise) Accuracy')\n",
    "plt.text(epochs[-1], loss_norm_gray_noise[-1], f'Loss{loss_norm_gray_noise[-1]:.2f}', color='r', fontsize=10, ha='left', va='bottom')\n",
    "plt.legend()\n",
    "plt.figure()\n",
    "\n",
    "epochs = range(len(loss_norm_gray_noise_smoothed))\n",
    "plt.plot(epochs, loss_norm_gray_noise_smoothed, 'b', label='Training (Smoothed) Accuracy')\n",
    "plt.text(epochs[-1], loss_norm_gray_noise_smoothed[-1], f'Loss{loss_norm_gray_noise_smoothed[-1]:.2f}', color='r', fontsize=10, ha='left', va='bottom')\n",
    "plt.legend()\n",
    "plt.figure()"
   ]
  },
  {
   "cell_type": "code",
   "execution_count": null,
   "metadata": {
    "colab": {
     "base_uri": "https://localhost:8080/"
    },
    "id": "zejfOmA721aT",
    "outputId": "11edd417-1b42-469e-c5b9-ecdbb008ee87"
   },
   "outputs": [],
   "source": [
    "pred_norm_gray = model.predict(x_test_norm_gray)\n",
    "pred_norm_gray_noise = model.predict(x_test_norm_gray_noise)\n",
    "pred_norm_gray_smoothed = model.predict(x_test_norm_gray_noise_smoothed)"
   ]
  },
  {
   "cell_type": "code",
   "execution_count": null,
   "metadata": {
    "colab": {
     "base_uri": "https://localhost:8080/",
     "height": 1000
    },
    "id": "U-zQDCxe2z-F",
    "outputId": "01ba2cad-19c2-4d4d-bf4a-ab641af55ee3"
   },
   "outputs": [],
   "source": [
    "#See a graph with predict values and real values in the noise dataset\n",
    "L = 7\n",
    "W = 7\n",
    "\n",
    "fig, axes = plt.subplots(L, W, figsize=(15, 15))\n",
    "axes = axes.ravel()\n",
    "\n",
    "for i in range(L * W):\n",
    "    prediction = int(pred_norm_gray[i][0])\n",
    "    true_label_index = np.argmax(y_test[i])  # Get the index of the class with value 1\n",
    "\n",
    "    axes[i].imshow(x_test_norm_gray[i], cmap='gray')\n",
    "    axes[i].set_title('Prediction = {}\\nTrue = {}'.format(prediction, true_label_index))\n",
    "    axes[i].axis('off')\n",
    "\n",
    "plt.subplots_adjust(wspace=1)\n",
    "plt.show()\n"
   ]
  },
  {
   "cell_type": "code",
   "execution_count": null,
   "metadata": {
    "colab": {
     "base_uri": "https://localhost:8080/",
     "height": 1000
    },
    "id": "K0AUsZUe-FJ2",
    "outputId": "7ba501e3-4127-44fe-b698-b40809df2069"
   },
   "outputs": [],
   "source": [
    "#See a graph with predict values and real values in the noise dataset\n",
    "L = 7\n",
    "W = 7\n",
    "\n",
    "fig, axes = plt.subplots(L, W, figsize=(15, 15))\n",
    "axes = axes.ravel()\n",
    "\n",
    "for i in range(L * W):\n",
    "    prediction = int(pred_norm_gray_noise[i][0])\n",
    "    true_label_index = np.argmax(y_test[i])  # Get the index of the class with value 1\n",
    "\n",
    "    axes[i].imshow(x_test_norm_gray_noise[i], cmap='gray')\n",
    "    axes[i].set_title('Prediction = {}\\nTrue = {}'.format(prediction, true_label_index))\n",
    "    axes[i].axis('off')\n",
    "\n",
    "plt.subplots_adjust(wspace=1)\n",
    "plt.show()"
   ]
  },
  {
   "cell_type": "code",
   "execution_count": null,
   "metadata": {
    "colab": {
     "base_uri": "https://localhost:8080/",
     "height": 1000
    },
    "id": "2mxw9AYt-xEp",
    "outputId": "4bc1159b-14fd-444d-8663-2ef222fc0514"
   },
   "outputs": [],
   "source": [
    "#See a graph with predict values and real values in the noise dataset\n",
    "L = 7\n",
    "W = 7\n",
    "\n",
    "fig, axes = plt.subplots(L, W, figsize=(15, 15))\n",
    "axes = axes.ravel()\n",
    "\n",
    "for i in range(L * W):\n",
    "    prediction = int(pred_norm_gray_smoothed[i][0])\n",
    "    true_label_index = np.argmax(y_test[i])  # Get the index of the class with value 1\n",
    "\n",
    "    axes[i].imshow(x_test_norm_gray_noise_smoothed[i], cmap='gray')\n",
    "    axes[i].set_title('Prediction = {}\\nTrue = {}'.format(prediction, true_label_index))\n",
    "    axes[i].axis('off')\n",
    "\n",
    "plt.subplots_adjust(wspace=1)\n",
    "plt.show()"
   ]
  },
  {
   "cell_type": "code",
   "execution_count": null,
   "metadata": {
    "id": "-thdUp0v-68Q"
   },
   "outputs": [],
   "source": []
  }
 ],
 "metadata": {
  "accelerator": "GPU",
  "colab": {
   "authorship_tag": "ABX9TyOEz/G5nIgvQpU85UVOWUGR",
   "include_colab_link": true,
   "mount_file_id": "1lJ6ry9B-fZJtjEoqBUbzZlx69l4iB8ag",
   "provenance": []
  },
  "kernelspec": {
   "display_name": "Python 3 (ipykernel)",
   "language": "python",
   "name": "python3"
  },
  "language_info": {
   "codemirror_mode": {
    "name": "ipython",
    "version": 3
   },
   "file_extension": ".py",
   "mimetype": "text/x-python",
   "name": "python",
   "nbconvert_exporter": "python",
   "pygments_lexer": "ipython3",
   "version": "3.11.5"
  }
 },
 "nbformat": 4,
 "nbformat_minor": 1
}
